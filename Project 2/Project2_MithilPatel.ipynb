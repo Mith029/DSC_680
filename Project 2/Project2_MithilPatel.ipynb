{
 "cells": [
  {
   "cell_type": "code",
   "execution_count": 1,
   "id": "123a7535-292e-4246-a6a5-f2b1aea21802",
   "metadata": {},
   "outputs": [],
   "source": [
    "# Importing libraries\n",
    "import pandas as pd\n",
    "import numpy as np\n",
    "import matplotlib.pyplot as plt\n",
    "import seaborn as sns\n",
    "import csv\n",
    "\n",
    "import re\n",
    "\n",
    "import nltk\n",
    "from nltk.tokenize import word_tokenize\n",
    "from nltk.stem import WordNetLemmatizer\n",
    "from nltk.corpus import stopwords\n",
    "stop_words = set(stopwords.words('english'))\n",
    "\n",
    "from sklearn.preprocessing import LabelEncoder\n",
    "from sklearn.model_selection import train_test_split\n",
    "\n",
    "from gensim.models import Word2Vec\n",
    "\n",
    "import warnings\n",
    "warnings.filterwarnings(\"ignore\")"
   ]
  },
  {
   "cell_type": "code",
   "execution_count": 2,
   "id": "49798aca-3fbf-4ecc-b789-f45368f22501",
   "metadata": {},
   "outputs": [
    {
     "name": "stdout",
     "output_type": "stream",
     "text": [
      "ISEAR dataset size: (7503, 2)\n",
      "WASSA dataset size: (3613, 2)\n"
     ]
    }
   ],
   "source": [
    "# Importing datasets\n",
    "df_isear = pd.read_csv(\"isear.csv\", sep= \"|\", engine='python', error_bad_lines=False, quoting=csv.QUOTE_NONE,warn_bad_lines=False)\n",
    "df_wassa = pd.read_csv(\"emotion-labels-train.csv\")\n",
    "df_isear = df_isear[[\"SIT\",\"Field1\"]]\n",
    "print('ISEAR dataset size:',df_isear.shape)\n",
    "print('WASSA dataset size:',df_wassa.shape)"
   ]
  },
  {
   "cell_type": "code",
   "execution_count": 3,
   "id": "2ad97a96-c826-4c4c-a157-0269474c1382",
   "metadata": {
    "tags": []
   },
   "outputs": [
    {
     "name": "stdout",
     "output_type": "stream",
     "text": [
      "Combined dataset size: (11116, 2)\n"
     ]
    },
    {
     "data": {
      "text/html": [
       "<div>\n",
       "<style scoped>\n",
       "    .dataframe tbody tr th:only-of-type {\n",
       "        vertical-align: middle;\n",
       "    }\n",
       "\n",
       "    .dataframe tbody tr th {\n",
       "        vertical-align: top;\n",
       "    }\n",
       "\n",
       "    .dataframe thead th {\n",
       "        text-align: right;\n",
       "    }\n",
       "</style>\n",
       "<table border=\"1\" class=\"dataframe\">\n",
       "  <thead>\n",
       "    <tr style=\"text-align: right;\">\n",
       "      <th></th>\n",
       "      <th>text</th>\n",
       "      <th>label</th>\n",
       "    </tr>\n",
       "  </thead>\n",
       "  <tbody>\n",
       "    <tr>\n",
       "      <th>6557</th>\n",
       "      <td>In May 18th, 1984 my boyfriend went to the U.S...</td>\n",
       "      <td>sadness</td>\n",
       "    </tr>\n",
       "    <tr>\n",
       "      <th>2688</th>\n",
       "      <td>I get angry with people who attain certain sta...</td>\n",
       "      <td>anger</td>\n",
       "    </tr>\n",
       "    <tr>\n",
       "      <th>3622</th>\n",
       "      <td>During the funeral of my grandmother, when I s...</td>\n",
       "      <td>sadness</td>\n",
       "    </tr>\n",
       "    <tr>\n",
       "      <th>7130</th>\n",
       "      <td>I quarrelled with my brothers (twins) at home ...</td>\n",
       "      <td>anger</td>\n",
       "    </tr>\n",
       "    <tr>\n",
       "      <th>7461</th>\n",
       "      <td>When I asked my classmate to teach me to do my...</td>\n",
       "      <td>shame</td>\n",
       "    </tr>\n",
       "    <tr>\n",
       "      <th>3058</th>\n",
       "      <td>When I failed my first exam at the Higher Inst...</td>\n",
       "      <td>fear</td>\n",
       "    </tr>\n",
       "    <tr>\n",
       "      <th>2373</th>\n",
       "      <td>Now that I have my ex's number now its time to...</td>\n",
       "      <td>anger</td>\n",
       "    </tr>\n",
       "    <tr>\n",
       "      <th>729</th>\n",
       "      <td>Research has determined 70% of #laughter is ac...</td>\n",
       "      <td>joy</td>\n",
       "    </tr>\n",
       "    <tr>\n",
       "      <th>2046</th>\n",
       "      <td>I dislike people who get offended by the littl...</td>\n",
       "      <td>anger</td>\n",
       "    </tr>\n",
       "    <tr>\n",
       "      <th>3801</th>\n",
       "      <td>Seeing for the first time pictures about the s...</td>\n",
       "      <td>anger</td>\n",
       "    </tr>\n",
       "  </tbody>\n",
       "</table>\n",
       "</div>"
      ],
      "text/plain": [
       "                                                   text    label\n",
       "6557  In May 18th, 1984 my boyfriend went to the U.S...  sadness\n",
       "2688  I get angry with people who attain certain sta...    anger\n",
       "3622  During the funeral of my grandmother, when I s...  sadness\n",
       "7130  I quarrelled with my brothers (twins) at home ...    anger\n",
       "7461  When I asked my classmate to teach me to do my...    shame\n",
       "3058  When I failed my first exam at the Higher Inst...     fear\n",
       "2373  Now that I have my ex's number now its time to...    anger\n",
       "729   Research has determined 70% of #laughter is ac...      joy\n",
       "2046  I dislike people who get offended by the littl...    anger\n",
       "3801  Seeing for the first time pictures about the s...    anger"
      ]
     },
     "execution_count": 3,
     "metadata": {},
     "output_type": "execute_result"
    }
   ],
   "source": [
    "# Renaming ISEAR dataset column names to accurately describe the columns\n",
    "df_isear.rename(columns={'SIT': 'text', 'Field1': 'label'}, inplace=True)\n",
    "\n",
    "# Combining datasets\n",
    "df = pd.concat([df_isear,df_wassa])\n",
    "\n",
    "# Display new dataset and its size\n",
    "print('Combined dataset size:', df.shape)\n",
    "df.sample(10)"
   ]
  },
  {
   "cell_type": "code",
   "execution_count": null,
   "id": "54a72028-b322-457c-8b9f-b0f148eb38f9",
   "metadata": {},
   "outputs": [],
   "source": []
  },
  {
   "cell_type": "markdown",
   "id": "f609137a-6328-464c-b18a-20fa66e35498",
   "metadata": {},
   "source": [
    "## Data Visualization"
   ]
  },
  {
   "cell_type": "code",
   "execution_count": 4,
   "id": "c85f157b-786b-4ea7-a479-bc92ed25f09b",
   "metadata": {},
   "outputs": [
    {
     "data": {
      "image/png": "[encoded data removed]",
      "text/plain": [
       "<Figure size 500x500 with 1 Axes>"
      ]
     },
     "metadata": {},
     "output_type": "display_data"
    }
   ],
   "source": [
    "# Creating emotion label pie chart\n",
    "\n",
    "label_count = df.label.value_counts() / len(df) * 100\n",
    "\n",
    "# selecting Seaborn color palette to use\n",
    "palette_color = sns.color_palette('colorblind') \n",
    "\n",
    "# plotting data\n",
    "plt.pie(label_count, labels=label_count.index, colors=palette_color,autopct='%.0f%%')\n",
    "\n",
    "# title of plot\n",
    "plt.title(\"Emotions distribution\")\n",
    "plt.gcf().set_size_inches(5,5)\n",
    "\n",
    "# displaying chart\n",
    "plt.show()"
   ]
  },
  {
   "cell_type": "code",
   "execution_count": 5,
   "id": "c6b50386-96cd-4e23-b8e7-c94b79c454f7",
   "metadata": {},
   "outputs": [
    {
     "data": {
      "text/plain": [
       "fear       20.025189\n",
       "anger      17.335372\n",
       "joy        16.984527\n",
       "sadness    16.786614\n",
       "shame       9.724721\n",
       "guilt       9.625765\n",
       "disgust     9.517812\n",
       "Name: label, dtype: float64"
      ]
     },
     "execution_count": 5,
     "metadata": {},
     "output_type": "execute_result"
    }
   ],
   "source": [
    "label_count"
   ]
  },
  {
   "cell_type": "code",
   "execution_count": 6,
   "id": "722e42a3-ed20-4378-8342-5dbd3140d27b",
   "metadata": {},
   "outputs": [
    {
     "data": {
      "image/png": "[encoded data removed]",
      "text/plain": [
       "<Figure size 1000x500 with 1 Axes>"
      ]
     },
     "metadata": {},
     "output_type": "display_data"
    }
   ],
   "source": [
    "# Creating a bar chart\n",
    "\n",
    "# convert series to dataframe\n",
    "label_count_df = label_count.to_frame()\n",
    "label_count_df.plot(kind='bar',  color= 'green')\n",
    " \n",
    "# labels for x & y axis\n",
    "plt.xlabel('Emotions label')\n",
    "plt.ylabel('Percentages')\n",
    " \n",
    "# title of plot\n",
    "plt.title(\"Emotions Distribution\")\n",
    "plt.gcf().set_size_inches(10,5)"
   ]
  },
  {
   "cell_type": "code",
   "execution_count": null,
   "id": "162f2801-3a00-4fed-8d3a-a0a6b4f2e039",
   "metadata": {},
   "outputs": [],
   "source": []
  },
  {
   "cell_type": "markdown",
   "id": "6e0ab0e1-7cea-47bd-852e-e34e863d7a31",
   "metadata": {},
   "source": [
    "# Preprocessing Data"
   ]
  },
  {
   "cell_type": "code",
   "execution_count": 4,
   "id": "4c686ddb-3b4b-4d53-8e9f-563a2cba2e5d",
   "metadata": {},
   "outputs": [],
   "source": [
    "# Function to remove twitter mentions and hyperlinks. \n",
    "def tweet_UserFilter(text):\n",
    "    new_text = []\n",
    "    for user in text.split(' '):\n",
    "        if len(user) > 0:\n",
    "            if user[0] == '@' and len(user) > 1:\n",
    "                pass\n",
    "            elif user.startswith(\"https\"):\n",
    "                pass\n",
    "            else:\n",
    "                new_text.append(user)\n",
    "    return ' '.join(new_text)\n",
    "\n",
    "# define a function to remove special characters, punctuation, and numbers.\n",
    "def clean_text(text):\n",
    "    text = re.sub('[^A-Za-z ]+', '', text) # remove special characters\n",
    "    text = re.sub(r'\\d+', '', text) # remove numbers\n",
    "    text = re.sub(r'\\s+', ' ', text) # remove extra whitespaces\n",
    "    text = text.lower() # convert to lowercase\n",
    "    return text.strip() # remove extra white space"
   ]
  },
  {
   "cell_type": "code",
   "execution_count": 5,
   "id": "d80d9edd-0dd9-477d-bc46-8af658e56db3",
   "metadata": {},
   "outputs": [],
   "source": [
    "# Removing unnecessary information\n",
    "df['prepped_text'] = df['text'].apply(tweet_UserFilter)\n",
    "df['prepped_text'] = df['prepped_text'].apply(clean_text)\n",
    "\n",
    "# Removing stop-words from text\n",
    "df['prepped_text'] = df['prepped_text'].apply(lambda x: ' '.join([word for word in x.split() if word not in stop_words]))\n",
    "\n",
    "# Tokenization\n",
    "df['tokens'] = df['prepped_text'].apply(word_tokenize)\n",
    "\n",
    "# Lemmatization\n",
    "lemmatizer = WordNetLemmatizer()\n",
    "df['lemmatized'] = df['tokens'].apply(lambda x: [lemmatizer.lemmatize(word) for word in x])\n",
    "\n",
    "# Label Encoding emotions \n",
    "le = LabelEncoder()\n",
    "df['labels_encoded'] = le.fit_transform(df['label'])"
   ]
  },
  {
   "cell_type": "code",
   "execution_count": 9,
   "id": "e8d92b5a-608d-4ca1-a74b-67d06bfeb1e4",
   "metadata": {},
   "outputs": [
    {
     "data": {
      "text/html": [
       "<div>\n",
       "<style scoped>\n",
       "    .dataframe tbody tr th:only-of-type {\n",
       "        vertical-align: middle;\n",
       "    }\n",
       "\n",
       "    .dataframe tbody tr th {\n",
       "        vertical-align: top;\n",
       "    }\n",
       "\n",
       "    .dataframe thead th {\n",
       "        text-align: right;\n",
       "    }\n",
       "</style>\n",
       "<table border=\"1\" class=\"dataframe\">\n",
       "  <thead>\n",
       "    <tr style=\"text-align: right;\">\n",
       "      <th></th>\n",
       "      <th>text</th>\n",
       "      <th>label</th>\n",
       "      <th>prepped_text</th>\n",
       "      <th>tokens</th>\n",
       "      <th>lemmatized</th>\n",
       "      <th>labels_encoded</th>\n",
       "    </tr>\n",
       "  </thead>\n",
       "  <tbody>\n",
       "    <tr>\n",
       "      <th>3573</th>\n",
       "      <td>@CrucialBMXShop ohh silver lake came up a lot ...</td>\n",
       "      <td>sadness</td>\n",
       "      <td>ohh silver lake came lot guys stayed</td>\n",
       "      <td>[ohh, silver, lake, came, lot, guys, stayed]</td>\n",
       "      <td>[ohh, silver, lake, came, lot, guy, stayed]</td>\n",
       "      <td>5</td>\n",
       "    </tr>\n",
       "    <tr>\n",
       "      <th>3110</th>\n",
       "      <td>When my grandmother died very suddenly without...</td>\n",
       "      <td>sadness</td>\n",
       "      <td>grandmother died suddenly without warning</td>\n",
       "      <td>[grandmother, died, suddenly, without, warning]</td>\n",
       "      <td>[grandmother, died, suddenly, without, warning]</td>\n",
       "      <td>5</td>\n",
       "    </tr>\n",
       "    <tr>\n",
       "      <th>2048</th>\n",
       "      <td>@justyne_haley it does. if one person ruins se...</td>\n",
       "      <td>anger</td>\n",
       "      <td>one person ruins season angry</td>\n",
       "      <td>[one, person, ruins, season, angry]</td>\n",
       "      <td>[one, person, ruin, season, angry]</td>\n",
       "      <td>0</td>\n",
       "    </tr>\n",
       "    <tr>\n",
       "      <th>7352</th>\n",
       "      <td>When I was young I felt ashamed when our relat...</td>\n",
       "      <td>shame</td>\n",
       "      <td>young felt ashamed relatives visited us hid</td>\n",
       "      <td>[young, felt, ashamed, relatives, visited, us,...</td>\n",
       "      <td>[young, felt, ashamed, relative, visited, u, hid]</td>\n",
       "      <td>6</td>\n",
       "    </tr>\n",
       "    <tr>\n",
       "      <th>1539</th>\n",
       "      <td>@EurekaForbes U got to b kidding me. Anu from ...</td>\n",
       "      <td>fear</td>\n",
       "      <td>u got b kidding anu firm responded sent contac...</td>\n",
       "      <td>[u, got, b, kidding, anu, firm, responded, sen...</td>\n",
       "      <td>[u, got, b, kidding, anu, firm, responded, sen...</td>\n",
       "      <td>2</td>\n",
       "    </tr>\n",
       "    <tr>\n",
       "      <th>4930</th>\n",
       "      <td>My sister lost one of her twin sons (my first ...</td>\n",
       "      <td>sadness</td>\n",
       "      <td>sister lost one twin sons first nephews older ...</td>\n",
       "      <td>[sister, lost, one, twin, sons, first, nephews...</td>\n",
       "      <td>[sister, lost, one, twin, son, first, nephew, ...</td>\n",
       "      <td>5</td>\n",
       "    </tr>\n",
       "    <tr>\n",
       "      <th>666</th>\n",
       "      <td>My mother accused me of not visiting her enoug...</td>\n",
       "      <td>guilt</td>\n",
       "      <td>mother accused visiting enough hospital eye op...</td>\n",
       "      <td>[mother, accused, visiting, enough, hospital, ...</td>\n",
       "      <td>[mother, accused, visiting, enough, hospital, ...</td>\n",
       "      <td>3</td>\n",
       "    </tr>\n",
       "    <tr>\n",
       "      <th>6495</th>\n",
       "      <td>In my village there was this tax collector who...</td>\n",
       "      <td>disgust</td>\n",
       "      <td>village tax collector used cheat people collec...</td>\n",
       "      <td>[village, tax, collector, used, cheat, people,...</td>\n",
       "      <td>[village, tax, collector, used, cheat, people,...</td>\n",
       "      <td>1</td>\n",
       "    </tr>\n",
       "    <tr>\n",
       "      <th>4340</th>\n",
       "      <td>I thought that I would be scolded for a commen...</td>\n",
       "      <td>fear</td>\n",
       "      <td>thought would scolded comment made made</td>\n",
       "      <td>[thought, would, scolded, comment, made, made]</td>\n",
       "      <td>[thought, would, scolded, comment, made, made]</td>\n",
       "      <td>2</td>\n",
       "    </tr>\n",
       "    <tr>\n",
       "      <th>1932</th>\n",
       "      <td>This is a terrific university-a unique univers...</td>\n",
       "      <td>fear</td>\n",
       "      <td>terrific universitya unique universityathabasc...</td>\n",
       "      <td>[terrific, universitya, unique, universityatha...</td>\n",
       "      <td>[terrific, universitya, unique, universityatha...</td>\n",
       "      <td>2</td>\n",
       "    </tr>\n",
       "  </tbody>\n",
       "</table>\n",
       "</div>"
      ],
      "text/plain": [
       "                                                   text    label  \\\n",
       "3573  @CrucialBMXShop ohh silver lake came up a lot ...  sadness   \n",
       "3110  When my grandmother died very suddenly without...  sadness   \n",
       "2048  @justyne_haley it does. if one person ruins se...    anger   \n",
       "7352  When I was young I felt ashamed when our relat...    shame   \n",
       "1539  @EurekaForbes U got to b kidding me. Anu from ...     fear   \n",
       "4930  My sister lost one of her twin sons (my first ...  sadness   \n",
       "666   My mother accused me of not visiting her enoug...    guilt   \n",
       "6495  In my village there was this tax collector who...  disgust   \n",
       "4340  I thought that I would be scolded for a commen...     fear   \n",
       "1932  This is a terrific university-a unique univers...     fear   \n",
       "\n",
       "                                           prepped_text  \\\n",
       "3573               ohh silver lake came lot guys stayed   \n",
       "3110          grandmother died suddenly without warning   \n",
       "2048                      one person ruins season angry   \n",
       "7352        young felt ashamed relatives visited us hid   \n",
       "1539  u got b kidding anu firm responded sent contac...   \n",
       "4930  sister lost one twin sons first nephews older ...   \n",
       "666   mother accused visiting enough hospital eye op...   \n",
       "6495  village tax collector used cheat people collec...   \n",
       "4340            thought would scolded comment made made   \n",
       "1932  terrific universitya unique universityathabasc...   \n",
       "\n",
       "                                                 tokens  \\\n",
       "3573       [ohh, silver, lake, came, lot, guys, stayed]   \n",
       "3110    [grandmother, died, suddenly, without, warning]   \n",
       "2048                [one, person, ruins, season, angry]   \n",
       "7352  [young, felt, ashamed, relatives, visited, us,...   \n",
       "1539  [u, got, b, kidding, anu, firm, responded, sen...   \n",
       "4930  [sister, lost, one, twin, sons, first, nephews...   \n",
       "666   [mother, accused, visiting, enough, hospital, ...   \n",
       "6495  [village, tax, collector, used, cheat, people,...   \n",
       "4340     [thought, would, scolded, comment, made, made]   \n",
       "1932  [terrific, universitya, unique, universityatha...   \n",
       "\n",
       "                                             lemmatized  labels_encoded  \n",
       "3573        [ohh, silver, lake, came, lot, guy, stayed]               5  \n",
       "3110    [grandmother, died, suddenly, without, warning]               5  \n",
       "2048                 [one, person, ruin, season, angry]               0  \n",
       "7352  [young, felt, ashamed, relative, visited, u, hid]               6  \n",
       "1539  [u, got, b, kidding, anu, firm, responded, sen...               2  \n",
       "4930  [sister, lost, one, twin, son, first, nephew, ...               5  \n",
       "666   [mother, accused, visiting, enough, hospital, ...               3  \n",
       "6495  [village, tax, collector, used, cheat, people,...               1  \n",
       "4340     [thought, would, scolded, comment, made, made]               2  \n",
       "1932  [terrific, universitya, unique, universityatha...               2  "
      ]
     },
     "execution_count": 9,
     "metadata": {},
     "output_type": "execute_result"
    }
   ],
   "source": [
    "# Displaying dataframe\n",
    "df.sample(10)"
   ]
  },
  {
   "cell_type": "code",
   "execution_count": 10,
   "id": "f44e87b9-2539-4971-a1f4-bd6a53422d16",
   "metadata": {},
   "outputs": [
    {
     "data": {
      "text/plain": [
       "text              0\n",
       "label             0\n",
       "prepped_text      0\n",
       "tokens            0\n",
       "lemmatized        0\n",
       "labels_encoded    0\n",
       "dtype: int64"
      ]
     },
     "execution_count": 10,
     "metadata": {},
     "output_type": "execute_result"
    }
   ],
   "source": [
    "# Checking for empty rows\n",
    "df.isnull().sum()"
   ]
  },
  {
   "cell_type": "code",
   "execution_count": 6,
   "id": "88112845-f569-4786-ac5a-16acbbc46172",
   "metadata": {},
   "outputs": [
    {
     "data": {
      "text/html": [
       "<div>\n",
       "<style scoped>\n",
       "    .dataframe tbody tr th:only-of-type {\n",
       "        vertical-align: middle;\n",
       "    }\n",
       "\n",
       "    .dataframe tbody tr th {\n",
       "        vertical-align: top;\n",
       "    }\n",
       "\n",
       "    .dataframe thead th {\n",
       "        text-align: right;\n",
       "    }\n",
       "</style>\n",
       "<table border=\"1\" class=\"dataframe\">\n",
       "  <thead>\n",
       "    <tr style=\"text-align: right;\">\n",
       "      <th></th>\n",
       "      <th>lemmatized</th>\n",
       "      <th>labels_encoded</th>\n",
       "    </tr>\n",
       "  </thead>\n",
       "  <tbody>\n",
       "    <tr>\n",
       "      <th>1562</th>\n",
       "      <td>[wanted, kiss, friend, didnt, succeed, felt, s...</td>\n",
       "      <td>6</td>\n",
       "    </tr>\n",
       "    <tr>\n",
       "      <th>1932</th>\n",
       "      <td>[became, aware, acquaintance, stolen, friend]</td>\n",
       "      <td>1</td>\n",
       "    </tr>\n",
       "    <tr>\n",
       "      <th>5470</th>\n",
       "      <td>[pet, died, pet, closest, friend, year]</td>\n",
       "      <td>5</td>\n",
       "    </tr>\n",
       "    <tr>\n",
       "      <th>6029</th>\n",
       "      <td>[get, admission, felt, disgusted]</td>\n",
       "      <td>1</td>\n",
       "    </tr>\n",
       "    <tr>\n",
       "      <th>3458</th>\n",
       "      <td>[put, winter, duvet, serious]</td>\n",
       "      <td>5</td>\n",
       "    </tr>\n",
       "    <tr>\n",
       "      <th>4703</th>\n",
       "      <td>[elder, sister, scolded, front, younger, siste...</td>\n",
       "      <td>5</td>\n",
       "    </tr>\n",
       "    <tr>\n",
       "      <th>4222</th>\n",
       "      <td>[party, went, last, christmas]</td>\n",
       "      <td>4</td>\n",
       "    </tr>\n",
       "  </tbody>\n",
       "</table>\n",
       "</div>"
      ],
      "text/plain": [
       "                                             lemmatized  labels_encoded\n",
       "1562  [wanted, kiss, friend, didnt, succeed, felt, s...               6\n",
       "1932      [became, aware, acquaintance, stolen, friend]               1\n",
       "5470            [pet, died, pet, closest, friend, year]               5\n",
       "6029                  [get, admission, felt, disgusted]               1\n",
       "3458                      [put, winter, duvet, serious]               5\n",
       "4703  [elder, sister, scolded, front, younger, siste...               5\n",
       "4222                     [party, went, last, christmas]               4"
      ]
     },
     "execution_count": 6,
     "metadata": {},
     "output_type": "execute_result"
    }
   ],
   "source": [
    "# Removing unneccesary columns\n",
    "df = df[['lemmatized', 'labels_encoded']]\n",
    "df.sample(7)"
   ]
  },
  {
   "cell_type": "code",
   "execution_count": null,
   "id": "e0b8d044-7b8d-48f5-88b3-7f427c593665",
   "metadata": {},
   "outputs": [],
   "source": []
  },
  {
   "cell_type": "markdown",
   "id": "bd1dccd6-d996-44d4-a3ce-90406807f07b",
   "metadata": {},
   "source": [
    "## Splitting the dataset"
   ]
  },
  {
   "cell_type": "code",
   "execution_count": 12,
   "id": "4155be32-0526-48e9-a416-dd65bddb14e7",
   "metadata": {},
   "outputs": [
    {
     "name": "stdout",
     "output_type": "stream",
     "text": [
      "Training set shape: (7781,)\n",
      "Validation set shape: (1667,)\n",
      "Testing set shape: (1668,)\n"
     ]
    }
   ],
   "source": [
    "# Get the features (embeddings and labels)\n",
    "x = df['lemmatized'].values\n",
    "y = df['labels_encoded'].values\n",
    "\n",
    "# Split the data into training, validation, and testing sets (70-15-15 split)\n",
    "x_train, x_valtest, y_train, y_valtest = train_test_split(x, y, test_size=0.30, random_state=42)\n",
    "x_val, x_test, y_val, y_test = train_test_split(x_valtest, y_valtest, test_size=0.50, random_state=42)\n",
    "\n",
    "# Printing the shape of the sets\n",
    "print(\"Training set shape:\", x_train.shape)\n",
    "print(\"Validation set shape:\", x_val.shape)\n",
    "print(\"Testing set shape:\", x_test.shape)"
   ]
  },
  {
   "cell_type": "markdown",
   "id": "865824bf-8bc1-476a-8ea5-4184cd791487",
   "metadata": {},
   "source": [
    "## Convolutional Neural Network (CNN) model"
   ]
  },
  {
   "cell_type": "code",
   "execution_count": 13,
   "id": "db4de564-f561-44b6-9496-642ba8117ffb",
   "metadata": {},
   "outputs": [],
   "source": [
    "import tensorflow as tf\n",
    "import numpy as np\n",
    "\n",
    "# Function to add padding to input variables\n",
    "def padding(x_train, x_test, x_val):\n",
    "    # create a dictionary to map words to indices\n",
    "    word_to_index = {}\n",
    "    \n",
    "     # Combine all the sentences from training, test, and validation data\n",
    "    all_sentences = np.concatenate((x_train, x_test, x_val), axis=0)\n",
    "    \n",
    "    for sentence in all_sentences:\n",
    "        for word in sentence:\n",
    "            if word not in word_to_index:\n",
    "                word_to_index[word] = len(word_to_index) + 1\n",
    "\n",
    "    # convert the sentences to sequences of indices\n",
    "    sequences_train = [[word_to_index[word] for word in sentence] for sentence in x_train]\n",
    "    sequences_test = [[word_to_index[word] for word in sentence] for sentence in x_test]\n",
    "    sequences_val = [[word_to_index[word] for word in sentence] for sentence in x_val]\n",
    "    \n",
    "    # pad the sequences to the same length\n",
    "    max_len = max([len(seq) for seq in sequences_train + sequences_test + sequences_val])\n",
    "    x_train = tf.keras.preprocessing.sequence.pad_sequences(sequences_train, maxlen=max_len)\n",
    "    x_test = tf.keras.preprocessing.sequence.pad_sequences(sequences_test, maxlen=max_len)\n",
    "    x_val = tf.keras.preprocessing.sequence.pad_sequences(sequences_val, maxlen=max_len)\n",
    "    \n",
    "    return x_train, x_test, x_val, word_to_index, max_len"
   ]
  },
  {
   "cell_type": "code",
   "execution_count": 14,
   "id": "7d1c32e7-433d-4f7a-ba4c-a8cdd8636fb5",
   "metadata": {},
   "outputs": [
    {
     "name": "stdout",
     "output_type": "stream",
     "text": [
      "Epoch 1/16\n",
      "244/244 [==============================] - 25s 95ms/step - loss: 1.8771 - accuracy: 0.3703 - val_loss: 1.4521 - val_accuracy: 0.5039\n",
      "Epoch 2/16\n",
      "244/244 [==============================] - 24s 97ms/step - loss: 1.0768 - accuracy: 0.6665 - val_loss: 1.3242 - val_accuracy: 0.5993\n",
      "Epoch 3/16\n",
      "244/244 [==============================] - 24s 97ms/step - loss: 0.7073 - accuracy: 0.8112 - val_loss: 1.4143 - val_accuracy: 0.5939\n",
      "Epoch 4/16\n",
      "244/244 [==============================] - 24s 98ms/step - loss: 0.5182 - accuracy: 0.8823 - val_loss: 1.4963 - val_accuracy: 0.5843\n",
      "Epoch 5/16\n",
      "244/244 [==============================] - 24s 98ms/step - loss: 0.4087 - accuracy: 0.9198 - val_loss: 1.6736 - val_accuracy: 0.5735\n",
      "Epoch 6/16\n",
      "244/244 [==============================] - 24s 98ms/step - loss: 0.3427 - accuracy: 0.9400 - val_loss: 1.7247 - val_accuracy: 0.5771\n",
      "Epoch 7/16\n",
      "244/244 [==============================] - 24s 98ms/step - loss: 0.3032 - accuracy: 0.9506 - val_loss: 1.8198 - val_accuracy: 0.5819\n",
      "Epoch 8/16\n",
      "244/244 [==============================] - 24s 98ms/step - loss: 0.2768 - accuracy: 0.9586 - val_loss: 1.7935 - val_accuracy: 0.5807\n",
      "Epoch 9/16\n",
      "244/244 [==============================] - 24s 97ms/step - loss: 0.2493 - accuracy: 0.9657 - val_loss: 1.8808 - val_accuracy: 0.5783\n",
      "Epoch 10/16\n",
      "244/244 [==============================] - 24s 98ms/step - loss: 0.2358 - accuracy: 0.9676 - val_loss: 1.9915 - val_accuracy: 0.5675\n",
      "Epoch 11/16\n",
      "244/244 [==============================] - 24s 96ms/step - loss: 0.2266 - accuracy: 0.9692 - val_loss: 1.9563 - val_accuracy: 0.5693\n",
      "Epoch 12/16\n",
      "244/244 [==============================] - 24s 97ms/step - loss: 0.2145 - accuracy: 0.9737 - val_loss: 1.9882 - val_accuracy: 0.5681\n",
      "Epoch 13/16\n",
      "244/244 [==============================] - 24s 97ms/step - loss: 0.2047 - accuracy: 0.9752 - val_loss: 2.0588 - val_accuracy: 0.5543\n",
      "Epoch 14/16\n",
      "244/244 [==============================] - 24s 97ms/step - loss: 0.1988 - accuracy: 0.9780 - val_loss: 2.0490 - val_accuracy: 0.5663\n",
      "Epoch 15/16\n",
      "244/244 [==============================] - 24s 97ms/step - loss: 0.1916 - accuracy: 0.9794 - val_loss: 2.0667 - val_accuracy: 0.5603\n",
      "Epoch 16/16\n",
      "244/244 [==============================] - 24s 98ms/step - loss: 0.1949 - accuracy: 0.9774 - val_loss: 2.1091 - val_accuracy: 0.5609\n",
      "53/53 [==============================] - 1s 27ms/step - loss: 1.8576 - accuracy: 0.5989\n",
      "Model Accuracy: 0.5989208817481995\n"
     ]
    }
   ],
   "source": [
    "import tensorflow as tf\n",
    "from tensorflow.keras import layers\n",
    "from tensorflow.keras.layers import Embedding, Bidirectional, GRU, Conv1D, MaxPooling1D, Flatten, Dense\n",
    "from tensorflow.keras.models import Sequential\n",
    "from tensorflow.keras import regularizers\n",
    "from tensorflow.keras.regularizers import l2\n",
    "\n",
    "x_train_padded, x_test_padded, x_val_padded, words, max_len = padding(x_train, x_test, x_val)\n",
    "\n",
    "# define the model architecture\n",
    "model = Sequential()\n",
    "model.add(Embedding(len(words) + 1, 500, input_length=max_len))\n",
    "model.add(Bidirectional(GRU(64))) # Bidirectional GRU layer\n",
    "model.add(Flatten())\n",
    "model.add(Dense(32, activation='relu',  kernel_regularizer=regularizers.l2(0.01), bias_regularizer=regularizers.l2(0.01)))\n",
    "model.add(Dense(7, activation='softmax',  kernel_regularizer=regularizers.l2(0.01), bias_regularizer=regularizers.l2(0.01)))\n",
    "\n",
    "# Train the model\n",
    "model.compile(optimizer='adam', loss='sparse_categorical_crossentropy', metrics=['accuracy'])\n",
    "history = model.fit(x_train_padded, y_train, epochs=16, batch_size=32, validation_data=(x_val_padded, y_val))\n",
    "\n",
    "# Model accuracy\n",
    "test_loss, test_acc = model.evaluate(x_test_padded, y_test)\n",
    "print(\"Model Accuracy:\", test_acc)"
   ]
  },
  {
   "cell_type": "markdown",
   "id": "73f385f0-04ea-4948-8e96-3dda7b949393",
   "metadata": {},
   "source": [
    "## Predictions"
   ]
  },
  {
   "cell_type": "code",
   "execution_count": 15,
   "id": "ac43da31-e838-4729-b293-35a695b37bf5",
   "metadata": {},
   "outputs": [
    {
     "name": "stdout",
     "output_type": "stream",
     "text": [
      "53/53 [==============================] - 1s 21ms/step\n"
     ]
    },
    {
     "data": {
      "text/html": [
       "<div>\n",
       "<style scoped>\n",
       "    .dataframe tbody tr th:only-of-type {\n",
       "        vertical-align: middle;\n",
       "    }\n",
       "\n",
       "    .dataframe tbody tr th {\n",
       "        vertical-align: top;\n",
       "    }\n",
       "\n",
       "    .dataframe thead th {\n",
       "        text-align: right;\n",
       "    }\n",
       "</style>\n",
       "<table border=\"1\" class=\"dataframe\">\n",
       "  <thead>\n",
       "    <tr style=\"text-align: right;\">\n",
       "      <th></th>\n",
       "      <th>Predicted</th>\n",
       "      <th>True Label</th>\n",
       "    </tr>\n",
       "  </thead>\n",
       "  <tbody>\n",
       "    <tr>\n",
       "      <th>0</th>\n",
       "      <td>5</td>\n",
       "      <td>5</td>\n",
       "    </tr>\n",
       "    <tr>\n",
       "      <th>1</th>\n",
       "      <td>2</td>\n",
       "      <td>2</td>\n",
       "    </tr>\n",
       "    <tr>\n",
       "      <th>2</th>\n",
       "      <td>6</td>\n",
       "      <td>3</td>\n",
       "    </tr>\n",
       "    <tr>\n",
       "      <th>3</th>\n",
       "      <td>0</td>\n",
       "      <td>0</td>\n",
       "    </tr>\n",
       "    <tr>\n",
       "      <th>4</th>\n",
       "      <td>2</td>\n",
       "      <td>2</td>\n",
       "    </tr>\n",
       "    <tr>\n",
       "      <th>...</th>\n",
       "      <td>...</td>\n",
       "      <td>...</td>\n",
       "    </tr>\n",
       "    <tr>\n",
       "      <th>1663</th>\n",
       "      <td>5</td>\n",
       "      <td>5</td>\n",
       "    </tr>\n",
       "    <tr>\n",
       "      <th>1664</th>\n",
       "      <td>3</td>\n",
       "      <td>0</td>\n",
       "    </tr>\n",
       "    <tr>\n",
       "      <th>1665</th>\n",
       "      <td>6</td>\n",
       "      <td>6</td>\n",
       "    </tr>\n",
       "    <tr>\n",
       "      <th>1666</th>\n",
       "      <td>0</td>\n",
       "      <td>0</td>\n",
       "    </tr>\n",
       "    <tr>\n",
       "      <th>1667</th>\n",
       "      <td>6</td>\n",
       "      <td>6</td>\n",
       "    </tr>\n",
       "  </tbody>\n",
       "</table>\n",
       "<p>1668 rows × 2 columns</p>\n",
       "</div>"
      ],
      "text/plain": [
       "      Predicted  True Label\n",
       "0             5           5\n",
       "1             2           2\n",
       "2             6           3\n",
       "3             0           0\n",
       "4             2           2\n",
       "...         ...         ...\n",
       "1663          5           5\n",
       "1664          3           0\n",
       "1665          6           6\n",
       "1666          0           0\n",
       "1667          6           6\n",
       "\n",
       "[1668 rows x 2 columns]"
      ]
     },
     "execution_count": 15,
     "metadata": {},
     "output_type": "execute_result"
    }
   ],
   "source": [
    "# Make predictions\n",
    "predictions = model.predict(x_test_padded)\n",
    "\n",
    "# Get the predicted class for each sample\n",
    "prediction = predictions.argmax(axis=1)\n",
    "\n",
    "# Create a DataFrame with predicted classes and true labels\n",
    "df_predict = pd.DataFrame({'Predicted': prediction, 'True Label': y_test})\n",
    "\n",
    "# Display the DataFrame\n",
    "df_predict"
   ]
  },
  {
   "cell_type": "markdown",
   "id": "83bb59eb-d0b2-4144-aedb-f22a5ed2a2d9",
   "metadata": {},
   "source": [
    "## Validation"
   ]
  },
  {
   "cell_type": "code",
   "execution_count": 16,
   "id": "0d1cbe88-6525-43d1-a84b-70f34b654391",
   "metadata": {},
   "outputs": [
    {
     "data": {
      "image/png": "[encoded data removed]",
      "text/plain": [
       "<Figure size 640x480 with 1 Axes>"
      ]
     },
     "metadata": {},
     "output_type": "display_data"
    },
    {
     "data": {
      "image/png": "[encoded data removed]",
      "text/plain": [
       "<Figure size 640x480 with 1 Axes>"
      ]
     },
     "metadata": {},
     "output_type": "display_data"
    }
   ],
   "source": [
    "history_dict = history.history\n",
    "\n",
    "acc = history.history['accuracy']\n",
    "val_acc = history.history['val_accuracy']\n",
    "loss = history.history['loss']\n",
    "val_loss = history.history['val_loss']\n",
    "epochs = range(1, len(acc) + 1)\n",
    "\n",
    "# Creating a validation plot\n",
    "plt.plot(epochs, acc, 'bo', label='Training acc')\n",
    "plt.plot(epochs, val_acc, 'b', label='Validation acc')\n",
    "plt.title('Training and validation accuracy')\n",
    "plt.legend()\n",
    "\n",
    "# Creating a accuracy plot\n",
    "plt.figure()\n",
    "plt.plot(epochs, loss, 'bo', label='Training loss')\n",
    "plt.plot(epochs, val_loss, 'b', label='Validation loss')\n",
    "plt.title('Training and validation loss')\n",
    "plt.legend()\n",
    "plt.show()"
   ]
  },
  {
   "cell_type": "markdown",
   "id": "e0207665-65bd-4d6b-ab33-2de6c4e06765",
   "metadata": {},
   "source": [
    "## Other Models"
   ]
  },
  {
   "cell_type": "code",
   "execution_count": 7,
   "id": "f824985a-badc-416d-a67d-4452dce874cf",
   "metadata": {},
   "outputs": [],
   "source": [
    "from sklearn.model_selection import train_test_split\n",
    "from sklearn.feature_extraction.text import TfidfVectorizer\n",
    "from sklearn.naive_bayes import MultinomialNB\n",
    "from sklearn.tree import DecisionTreeClassifier\n",
    "from sklearn.ensemble import RandomForestClassifier\n",
    "\n",
    "# Convert the lemmatized text from a list to a string\n",
    "df['lemmatized'] = df['lemmatized'].apply(lambda x: ' '.join(x))\n",
    "\n",
    "# Split the dataframe into features and target variable\n",
    "x = np.array(df['lemmatized'])\n",
    "y = np.array(df['labels_encoded'])\n",
    "\n",
    "# Convert lemmatized text into numerical representation using TF-IDF vectorization\n",
    "vectorizer = TfidfVectorizer()\n",
    "x_vectorized = vectorizer.fit_transform(x)\n",
    "\n",
    "# Split the data into training and testing sets\n",
    "x_train, x_test, y_train, y_test = train_test_split(x_vectorized, y, test_size=0.2, random_state=42)"
   ]
  },
  {
   "cell_type": "code",
   "execution_count": 8,
   "id": "6b182476-8553-4c35-9f65-2916509f2151",
   "metadata": {},
   "outputs": [
    {
     "name": "stdout",
     "output_type": "stream",
     "text": [
      "Naive Bayes Accuracy: 0.58318345323741\n",
      "Decision Tree Accuracy: 0.5638489208633094\n",
      "Random Forest Accuracy: 0.6344424460431655\n"
     ]
    }
   ],
   "source": [
    "# Training the Naive Bayes classifier\n",
    "nb_classifier = MultinomialNB()\n",
    "nb_classifier.fit(x_train, y_train)\n",
    "\n",
    "# Evaluating the Naive Bayes classifier\n",
    "nb_accuracy = nb_classifier.score(x_test, y_test)\n",
    "print(\"Naive Bayes Accuracy:\", nb_accuracy)\n",
    "\n",
    "# Training the Decision Tree classifier\n",
    "dt_classifier = DecisionTreeClassifier()\n",
    "dt_classifier.fit(x_train, y_train)\n",
    "\n",
    "# Evaluating the Decision Tree classifier\n",
    "dt_accuracy = dt_classifier.score(x_test, y_test)\n",
    "print(\"Decision Tree Accuracy:\", dt_accuracy)\n",
    "\n",
    "# Training the Random Forest classifier\n",
    "rf_classifier = RandomForestClassifier()\n",
    "rf_classifier.fit(x_train, y_train)\n",
    "\n",
    "# Evaluating the Random Forest classifier\n",
    "rf_accuracy = rf_classifier.score(x_test, y_test)\n",
    "print(\"Random Forest Accuracy:\", rf_accuracy)"
   ]
  },
  {
   "cell_type": "code",
   "execution_count": null,
   "id": "3674294c-faa0-4a71-98cf-f8c2eec0a2dc",
   "metadata": {},
   "outputs": [],
   "source": []
  }
 ],
 "metadata": {
  "kernelspec": {
   "display_name": "Python 3 (ipykernel)",
   "language": "python",
   "name": "python3"
  },
  "language_info": {
   "codemirror_mode": {
    "name": "ipython",
    "version": 3
   },
   "file_extension": ".py",
   "mimetype": "text/x-python",
   "name": "python",
   "nbconvert_exporter": "python",
   "pygments_lexer": "ipython3",
   "version": "3.9.13"
  }
 },
 "nbformat": 4,
 "nbformat_minor": 5
}
